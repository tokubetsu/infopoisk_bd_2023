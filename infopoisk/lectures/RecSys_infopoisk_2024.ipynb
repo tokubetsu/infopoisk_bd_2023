{
  "nbformat": 4,
  "nbformat_minor": 0,
  "metadata": {
    "colab": {
      "provenance": []
    },
    "kernelspec": {
      "name": "python3",
      "display_name": "Python 3"
    },
    "language_info": {
      "name": "python"
    }
  },
  "cells": [
    {
      "cell_type": "markdown",
      "source": [
        "# Рекомендательные системы"
      ],
      "metadata": {
        "id": "suQh2A88d8Ov"
      }
    },
    {
      "cell_type": "markdown",
      "source": [
        "Основано на материалах курса Д. И. Игнатова \"Рекомендательные системы\""
      ],
      "metadata": {
        "id": "9fWPTuOyJXCV"
      }
    },
    {
      "cell_type": "markdown",
      "source": [
        "## План"
      ],
      "metadata": {
        "id": "AQZcYBMHd9vy"
      }
    },
    {
      "cell_type": "markdown",
      "source": [
        "1. Постановка задачи\n",
        "2. Данные\n",
        "3. Методы оценки\n",
        "4. Подходы к решению\n",
        "5. Практика"
      ],
      "metadata": {
        "id": "mOYIn2HreJmo"
      }
    },
    {
      "cell_type": "markdown",
      "source": [
        "## Постановка задачи"
      ],
      "metadata": {
        "id": "sL0Y3b2HeK35"
      }
    },
    {
      "cell_type": "markdown",
      "source": [
        "У нас есть множество пользователей. Для каждого пользователя есть множество объектов, которые он оценил (поставил рейтинг). Именно этот рейтинг мы будем предсказывать.\n",
        "\n",
        "Задача: для каждой пары пользователь-объект оценить рейтинг и предсказать топ наиболее \"релевантных\" пользователю объектов.\n",
        "\n",
        "<img src=\"https://d2l.ai/_images/rec-intro.svg\" alt=\"rec\" width=800/>\n",
        "\n",
        "При этом оценка от пользователя обычно делится на два вида:\n",
        "- Явная, когда пользователь точно выразил свое отношение к объекту (поставил лайк, написал отзыв)\n",
        "- Неявная, когда мы вынужжены по косвенным признакам определять оценки (время просмотра видео, клики)\n",
        "\n",
        "***\n",
        "\n",
        "Бывает, что задачу ставят в более общем виде как задачу предсказания наличия ребер в двудольном графе. Тогда мы считаем, что у нас есть:\n",
        "- Два набора объектов (обычно) различной природы (авторы и статьи, покупатели и продукты, книги и ключевые слова). При этом принято один набор называть объектами, а второй - атрибутами.\n",
        "- Информация о наличии связей между объектами. Причем связи могут быть только между объектами из разных наборов.\n",
        "\n",
        "\n",
        "<img src=\"https://www.researchgate.net/publication/369199718/figure/fig4/AS:11431281183703059@1692966061534/K-partite-graph-illustration-a-A-user-item-bipartite-graph-with-nodes-representing-user.png\" alt=\"rec\"/>\n",
        "\n",
        "\n",
        "И здесь есть два варианта постановки задачи:\n",
        "- Object-Attribute task: предсказываем, должен ли данный объект иметь связь с данным атрибутом (является ли челоывек автором статьи, купит ли клиент продукт)\n",
        "- Object-Object task: предсказываем, должны ли два объекта иметь связт с одним атрибутом (могут ли два человека быть соавторами, будут ли два продукта куплены вместе)\n",
        "\n",
        "***\n",
        "\n",
        "Отличие от задачи информационного поиска (и вообще поиска) заключается в отсутствии явно выраженного запроса.\n",
        "\n"
      ],
      "metadata": {
        "id": "E4g_2Xy0eW3F"
      }
    },
    {
      "cell_type": "markdown",
      "source": [
        "## Данные"
      ],
      "metadata": {
        "id": "x4VRUmGokzOA"
      }
    },
    {
      "cell_type": "markdown",
      "source": [
        "Чаще всего данные представляют собрй матрицу, где по строкам и столбцам расположены два набора объектов, а в ячейках стоят оценки. Иногда это длинная форма такой матрицы.\n",
        "\n",
        "| user_id <br> item_id | 1 | 2 | 3 | 4 | 5 |\n",
        "| -- | -- | -- | -- | -- | -- |\n",
        "| 1 | 5.0 | 3.0 | 4.0 | 3.0 | 3.0 |\n",
        "| 2 | 4.0 | 0.0 | 0.0 | 0.0 | 0.0 |\n",
        "| 3 | 0.0 | 0.0 | 0.0 | 0.0 | 0.0 |\n",
        "| 4 | 0.0 | 0.0 | 0.0 | 0.0 | 0.0 |\n",
        "| 5 | 4.0 | 3.0 | 0.0 | 0.0 | 0.0 |\n",
        "\n",
        "Хорошие датасеты:\n",
        "- [GroupLens](https://grouplens.org/datasets/movielens/)\n",
        "- [RecSys Challenge](https://www.recsyschallenge.com/2024/)\n",
        "- [Kinopoisk's movies reviews](https://www.kaggle.com/datasets/mikhailklemin/kinopoisks-movies-reviews): русскоязычный и подходит для content-based решений\n",
        "- [Netflix Movies and TV Shows](https://www.kaggle.com/datasets/shivamb/netflix-shows) - англоязычный, подходит для content-based"
      ],
      "metadata": {
        "id": "65PPVMXCFEm2"
      }
    },
    {
      "cell_type": "markdown",
      "source": [
        "## Методы оценки"
      ],
      "metadata": {
        "id": "inK-Oe93k383"
      }
    },
    {
      "cell_type": "markdown",
      "source": [
        "Так как мы фактически решаем две задачи: предсказание наличия связи (и это классификация) и предсказание силы связи - оценки (это регресиия), мы имеем два набора метрик:\n",
        "1. MSE, MAE etc - для предсказания оценки\n",
        "2. Precision, Recall, F-score - для предсказания связи\n",
        "\n",
        "Также мы можем использовать метрики для сравнения множеств (коэффициент Жаккара), корреляционные оценки (коэффициент Пирсона) и метрики для ранжирования (precision-top-k, precision@k)."
      ],
      "metadata": {
        "id": "TvxCpA7gllWj"
      }
    },
    {
      "cell_type": "markdown",
      "source": [
        "## Подходы"
      ],
      "metadata": {
        "id": "K3FjnsQVk6so"
      }
    },
    {
      "cell_type": "markdown",
      "source": [
        "### Content-based"
      ],
      "metadata": {
        "id": "sdBww_8-d-RL"
      }
    },
    {
      "cell_type": "markdown",
      "source": [
        "Здесь мы делаем предсказания на основе похожести объектов с точки зрения контента. При этом под контеннтом может пониматься как реальное соджержание объекта (текст книги/песни, картинка), так и метаинформация о нем (актеры и кассовые сборы, описание картинки или песни).\n",
        "\n",
        "Обычно у данного подхода выделяют несколько недостатков:\n",
        "- Большая вычислительная сложность (тяжело работать с музыкой или большими текстами)\n",
        "- Нужны сложные доменные модели. Мы не можем считать картинку и текст похожими объектами, если у нас нет мультимодальных моделей\n",
        "- Для многих типов объектов не очень понятно, что такое контент в целом\n",
        "- Нужно много данных для первичного обучения"
      ],
      "metadata": {
        "id": "2anXmj4IlBBl"
      }
    },
    {
      "cell_type": "markdown",
      "source": [
        "### Collaborative filtering"
      ],
      "metadata": {
        "id": "OtU4Nj5ueH1n"
      }
    },
    {
      "cell_type": "markdown",
      "source": [
        "Здесь есть два набора подходов:\n",
        "1. Item-based: рекомендуем новые объкуты на основе их похожести на выбранные пользователем ранее. Какие здесь могут быть сложности? Что значит \"похожесть\" в данном случае?\n",
        "\n",
        "2. User-based: рекомендуем пользователю новые объекты на основе того, что выбирают похожие на него пользователи. Какие здесь могут быть сложности? Что значит \"похожесть\" в данном случае?\n",
        "\n",
        "<img src=\"https://www.researchgate.net/profile/Prakash-Upadhyaya/publication/366902172/figure/fig2/AS:11431281111439652@1672973053129/User-based-and-Item-based-Collaborative-Filtering.png\" alt=\"rec\"/>\n",
        "\n",
        "На практике часто используются комбинированные методы."
      ],
      "metadata": {
        "id": "U4UytTRglBal"
      }
    },
    {
      "cell_type": "markdown",
      "source": [
        "### Возможные алгоритмы решения"
      ],
      "metadata": {
        "id": "mkaZHp8ZMA3C"
      }
    },
    {
      "cell_type": "markdown",
      "source": [
        "- Методы на основе векторного расстояния между пользователями/объектами\n",
        "- Методы на основе FCA (Formal Concept Analysis)\n",
        "- Матричные разложения (и в целом весь спектр методов для задачи восстанволения пропусков в матрице)\n",
        "- NLP подходы (считаем объекты/пользователей токенами и учимся их векторизовать)"
      ],
      "metadata": {
        "id": "vqM3naVqMGhx"
      }
    },
    {
      "cell_type": "markdown",
      "source": [
        "## Практика"
      ],
      "metadata": {
        "id": "UYmKXPzNlCLa"
      }
    },
    {
      "cell_type": "markdown",
      "source": [
        "Давайте на небольшом кусочке датасета movielens попробуем реализовать простейшую версию Collaborative filtering."
      ],
      "metadata": {
        "id": "52QBl-LPOhGT"
      }
    },
    {
      "cell_type": "markdown",
      "source": [
        "Скачаем данные"
      ],
      "metadata": {
        "id": "E8U7e2p1Orlo"
      }
    },
    {
      "cell_type": "code",
      "execution_count": null,
      "metadata": {
        "id": "0CGDS7kkcczi"
      },
      "outputs": [],
      "source": [
        "!wget -q https://files.grouplens.org/datasets/movielens/ml-100k.zip\n",
        "!unzip -q ml-100k.zip"
      ]
    },
    {
      "cell_type": "code",
      "source": [
        "from pathlib import Path\n",
        "\n",
        "import pandas as pd\n",
        "import numpy as np\n",
        "\n",
        "from scipy.spatial.distance import correlation, euclidean\n",
        "\n",
        "from sklearn.metrics import root_mean_squared_error, mean_absolute_error\n",
        "from sklearn.preprocessing import normalize, MinMaxScaler, LabelEncoder\n",
        "from sklearn.neighbors import NearestNeighbors"
      ],
      "metadata": {
        "id": "KmrsoiT9eI2w"
      },
      "execution_count": null,
      "outputs": []
    },
    {
      "cell_type": "markdown",
      "source": [
        "Прочитаем и подготовим их"
      ],
      "metadata": {
        "id": "xbROsguTOtMF"
      }
    },
    {
      "cell_type": "code",
      "source": [
        "def read_data(path, splits=('base', 'test')):\n",
        "    res = []\n",
        "    for split in splits:\n",
        "        for filename in path.glob(f'*[0-9].{split}'):\n",
        "            num = filename.stem[-1]\n",
        "            cur = pd.read_csv(filename, sep='\\t', header=None,\n",
        "                names=['user id', 'item id', 'rating', 'timestamp'])\n",
        "            cur['split_type'] = split\n",
        "            cur['split_num'] = int(num) - 1\n",
        "            res.append(cur)\n",
        "\n",
        "    items = pd.read_csv(path / 'u.item', encoding='cp1252', sep='|',\n",
        "                        header=None)[[0, 1]]\n",
        "    items.columns = ['item_id', 'item_name']\n",
        "    return pd.concat(res, ignore_index=True), items"
      ],
      "metadata": {
        "id": "KB8JLOcoNFHu"
      },
      "execution_count": null,
      "outputs": []
    },
    {
      "cell_type": "code",
      "source": [
        "def prepare_data(data, split_num):\n",
        "    # get the matrix with ratings\n",
        "    cur_data = data[data.split_num == split_num].reset_index(drop=True)\n",
        "\n",
        "    # transfroming ids so that they match indexes in array\n",
        "    le_user = LabelEncoder()\n",
        "    cur_data['user_id'] = le_user.fit_transform(cur_data['user_id'])\n",
        "    le_item = LabelEncoder()\n",
        "    cur_data['item_id'] = le_user.fit_transform(cur_data['item_id'])\n",
        "\n",
        "    cur = pd.pivot_table(\n",
        "        cur_data, values='rating',\n",
        "        index='user_id', columns='item_id',\n",
        "        fill_value=0).sort_index().to_numpy()\n",
        "\n",
        "    # masking test data to avoid using it during training\n",
        "    tmp = cur_data[cur_data.split_type == 'test']\n",
        "    cur[tmp.user_id, tmp.item_id] = 0\n",
        "\n",
        "    # these matrix is user-item but can be transposed to item-user\n",
        "    return cur, cur_data, le_user, le_item"
      ],
      "metadata": {
        "id": "4_HQxaYVNUTV"
      },
      "execution_count": null,
      "outputs": []
    },
    {
      "cell_type": "markdown",
      "source": [
        "Наши данные"
      ],
      "metadata": {
        "id": "7AuN8jW-OvT5"
      }
    },
    {
      "cell_type": "code",
      "source": [
        "df, items = read_data(Path('ml-100k'))\n",
        "df.columns = ['user_id', 'item_id', 'rating', 'timestamp', 'split_type', 'split_num']\n",
        "df.head(2)"
      ],
      "metadata": {
        "id": "YNoyt2vrNFmI",
        "colab": {
          "base_uri": "https://localhost:8080/",
          "height": 112
        },
        "outputId": "e78450e0-51f9-4783-b680-5383272b1bce"
      },
      "execution_count": null,
      "outputs": [
        {
          "output_type": "execute_result",
          "data": {
            "text/plain": [
              "   user_id  item_id  rating  timestamp split_type  split_num\n",
              "0        1        1       5  874965758       base          3\n",
              "1        1        2       3  876893171       base          3"
            ],
            "text/html": [
              "\n",
              "  <div id=\"df-589c35ea-a53e-4ce3-ae64-e955a5b29a56\" class=\"colab-df-container\">\n",
              "    <div>\n",
              "<style scoped>\n",
              "    .dataframe tbody tr th:only-of-type {\n",
              "        vertical-align: middle;\n",
              "    }\n",
              "\n",
              "    .dataframe tbody tr th {\n",
              "        vertical-align: top;\n",
              "    }\n",
              "\n",
              "    .dataframe thead th {\n",
              "        text-align: right;\n",
              "    }\n",
              "</style>\n",
              "<table border=\"1\" class=\"dataframe\">\n",
              "  <thead>\n",
              "    <tr style=\"text-align: right;\">\n",
              "      <th></th>\n",
              "      <th>user_id</th>\n",
              "      <th>item_id</th>\n",
              "      <th>rating</th>\n",
              "      <th>timestamp</th>\n",
              "      <th>split_type</th>\n",
              "      <th>split_num</th>\n",
              "    </tr>\n",
              "  </thead>\n",
              "  <tbody>\n",
              "    <tr>\n",
              "      <th>0</th>\n",
              "      <td>1</td>\n",
              "      <td>1</td>\n",
              "      <td>5</td>\n",
              "      <td>874965758</td>\n",
              "      <td>base</td>\n",
              "      <td>3</td>\n",
              "    </tr>\n",
              "    <tr>\n",
              "      <th>1</th>\n",
              "      <td>1</td>\n",
              "      <td>2</td>\n",
              "      <td>3</td>\n",
              "      <td>876893171</td>\n",
              "      <td>base</td>\n",
              "      <td>3</td>\n",
              "    </tr>\n",
              "  </tbody>\n",
              "</table>\n",
              "</div>\n",
              "    <div class=\"colab-df-buttons\">\n",
              "\n",
              "  <div class=\"colab-df-container\">\n",
              "    <button class=\"colab-df-convert\" onclick=\"convertToInteractive('df-589c35ea-a53e-4ce3-ae64-e955a5b29a56')\"\n",
              "            title=\"Convert this dataframe to an interactive table.\"\n",
              "            style=\"display:none;\">\n",
              "\n",
              "  <svg xmlns=\"http://www.w3.org/2000/svg\" height=\"24px\" viewBox=\"0 -960 960 960\">\n",
              "    <path d=\"M120-120v-720h720v720H120Zm60-500h600v-160H180v160Zm220 220h160v-160H400v160Zm0 220h160v-160H400v160ZM180-400h160v-160H180v160Zm440 0h160v-160H620v160ZM180-180h160v-160H180v160Zm440 0h160v-160H620v160Z\"/>\n",
              "  </svg>\n",
              "    </button>\n",
              "\n",
              "  <style>\n",
              "    .colab-df-container {\n",
              "      display:flex;\n",
              "      gap: 12px;\n",
              "    }\n",
              "\n",
              "    .colab-df-convert {\n",
              "      background-color: #E8F0FE;\n",
              "      border: none;\n",
              "      border-radius: 50%;\n",
              "      cursor: pointer;\n",
              "      display: none;\n",
              "      fill: #1967D2;\n",
              "      height: 32px;\n",
              "      padding: 0 0 0 0;\n",
              "      width: 32px;\n",
              "    }\n",
              "\n",
              "    .colab-df-convert:hover {\n",
              "      background-color: #E2EBFA;\n",
              "      box-shadow: 0px 1px 2px rgba(60, 64, 67, 0.3), 0px 1px 3px 1px rgba(60, 64, 67, 0.15);\n",
              "      fill: #174EA6;\n",
              "    }\n",
              "\n",
              "    .colab-df-buttons div {\n",
              "      margin-bottom: 4px;\n",
              "    }\n",
              "\n",
              "    [theme=dark] .colab-df-convert {\n",
              "      background-color: #3B4455;\n",
              "      fill: #D2E3FC;\n",
              "    }\n",
              "\n",
              "    [theme=dark] .colab-df-convert:hover {\n",
              "      background-color: #434B5C;\n",
              "      box-shadow: 0px 1px 3px 1px rgba(0, 0, 0, 0.15);\n",
              "      filter: drop-shadow(0px 1px 2px rgba(0, 0, 0, 0.3));\n",
              "      fill: #FFFFFF;\n",
              "    }\n",
              "  </style>\n",
              "\n",
              "    <script>\n",
              "      const buttonEl =\n",
              "        document.querySelector('#df-589c35ea-a53e-4ce3-ae64-e955a5b29a56 button.colab-df-convert');\n",
              "      buttonEl.style.display =\n",
              "        google.colab.kernel.accessAllowed ? 'block' : 'none';\n",
              "\n",
              "      async function convertToInteractive(key) {\n",
              "        const element = document.querySelector('#df-589c35ea-a53e-4ce3-ae64-e955a5b29a56');\n",
              "        const dataTable =\n",
              "          await google.colab.kernel.invokeFunction('convertToInteractive',\n",
              "                                                    [key], {});\n",
              "        if (!dataTable) return;\n",
              "\n",
              "        const docLinkHtml = 'Like what you see? Visit the ' +\n",
              "          '<a target=\"_blank\" href=https://colab.research.google.com/notebooks/data_table.ipynb>data table notebook</a>'\n",
              "          + ' to learn more about interactive tables.';\n",
              "        element.innerHTML = '';\n",
              "        dataTable['output_type'] = 'display_data';\n",
              "        await google.colab.output.renderOutput(dataTable, element);\n",
              "        const docLink = document.createElement('div');\n",
              "        docLink.innerHTML = docLinkHtml;\n",
              "        element.appendChild(docLink);\n",
              "      }\n",
              "    </script>\n",
              "  </div>\n",
              "\n",
              "\n",
              "<div id=\"df-215b77c9-32ea-4990-94b3-c6363f27f05e\">\n",
              "  <button class=\"colab-df-quickchart\" onclick=\"quickchart('df-215b77c9-32ea-4990-94b3-c6363f27f05e')\"\n",
              "            title=\"Suggest charts\"\n",
              "            style=\"display:none;\">\n",
              "\n",
              "<svg xmlns=\"http://www.w3.org/2000/svg\" height=\"24px\"viewBox=\"0 0 24 24\"\n",
              "     width=\"24px\">\n",
              "    <g>\n",
              "        <path d=\"M19 3H5c-1.1 0-2 .9-2 2v14c0 1.1.9 2 2 2h14c1.1 0 2-.9 2-2V5c0-1.1-.9-2-2-2zM9 17H7v-7h2v7zm4 0h-2V7h2v10zm4 0h-2v-4h2v4z\"/>\n",
              "    </g>\n",
              "</svg>\n",
              "  </button>\n",
              "\n",
              "<style>\n",
              "  .colab-df-quickchart {\n",
              "      --bg-color: #E8F0FE;\n",
              "      --fill-color: #1967D2;\n",
              "      --hover-bg-color: #E2EBFA;\n",
              "      --hover-fill-color: #174EA6;\n",
              "      --disabled-fill-color: #AAA;\n",
              "      --disabled-bg-color: #DDD;\n",
              "  }\n",
              "\n",
              "  [theme=dark] .colab-df-quickchart {\n",
              "      --bg-color: #3B4455;\n",
              "      --fill-color: #D2E3FC;\n",
              "      --hover-bg-color: #434B5C;\n",
              "      --hover-fill-color: #FFFFFF;\n",
              "      --disabled-bg-color: #3B4455;\n",
              "      --disabled-fill-color: #666;\n",
              "  }\n",
              "\n",
              "  .colab-df-quickchart {\n",
              "    background-color: var(--bg-color);\n",
              "    border: none;\n",
              "    border-radius: 50%;\n",
              "    cursor: pointer;\n",
              "    display: none;\n",
              "    fill: var(--fill-color);\n",
              "    height: 32px;\n",
              "    padding: 0;\n",
              "    width: 32px;\n",
              "  }\n",
              "\n",
              "  .colab-df-quickchart:hover {\n",
              "    background-color: var(--hover-bg-color);\n",
              "    box-shadow: 0 1px 2px rgba(60, 64, 67, 0.3), 0 1px 3px 1px rgba(60, 64, 67, 0.15);\n",
              "    fill: var(--button-hover-fill-color);\n",
              "  }\n",
              "\n",
              "  .colab-df-quickchart-complete:disabled,\n",
              "  .colab-df-quickchart-complete:disabled:hover {\n",
              "    background-color: var(--disabled-bg-color);\n",
              "    fill: var(--disabled-fill-color);\n",
              "    box-shadow: none;\n",
              "  }\n",
              "\n",
              "  .colab-df-spinner {\n",
              "    border: 2px solid var(--fill-color);\n",
              "    border-color: transparent;\n",
              "    border-bottom-color: var(--fill-color);\n",
              "    animation:\n",
              "      spin 1s steps(1) infinite;\n",
              "  }\n",
              "\n",
              "  @keyframes spin {\n",
              "    0% {\n",
              "      border-color: transparent;\n",
              "      border-bottom-color: var(--fill-color);\n",
              "      border-left-color: var(--fill-color);\n",
              "    }\n",
              "    20% {\n",
              "      border-color: transparent;\n",
              "      border-left-color: var(--fill-color);\n",
              "      border-top-color: var(--fill-color);\n",
              "    }\n",
              "    30% {\n",
              "      border-color: transparent;\n",
              "      border-left-color: var(--fill-color);\n",
              "      border-top-color: var(--fill-color);\n",
              "      border-right-color: var(--fill-color);\n",
              "    }\n",
              "    40% {\n",
              "      border-color: transparent;\n",
              "      border-right-color: var(--fill-color);\n",
              "      border-top-color: var(--fill-color);\n",
              "    }\n",
              "    60% {\n",
              "      border-color: transparent;\n",
              "      border-right-color: var(--fill-color);\n",
              "    }\n",
              "    80% {\n",
              "      border-color: transparent;\n",
              "      border-right-color: var(--fill-color);\n",
              "      border-bottom-color: var(--fill-color);\n",
              "    }\n",
              "    90% {\n",
              "      border-color: transparent;\n",
              "      border-bottom-color: var(--fill-color);\n",
              "    }\n",
              "  }\n",
              "</style>\n",
              "\n",
              "  <script>\n",
              "    async function quickchart(key) {\n",
              "      const quickchartButtonEl =\n",
              "        document.querySelector('#' + key + ' button');\n",
              "      quickchartButtonEl.disabled = true;  // To prevent multiple clicks.\n",
              "      quickchartButtonEl.classList.add('colab-df-spinner');\n",
              "      try {\n",
              "        const charts = await google.colab.kernel.invokeFunction(\n",
              "            'suggestCharts', [key], {});\n",
              "      } catch (error) {\n",
              "        console.error('Error during call to suggestCharts:', error);\n",
              "      }\n",
              "      quickchartButtonEl.classList.remove('colab-df-spinner');\n",
              "      quickchartButtonEl.classList.add('colab-df-quickchart-complete');\n",
              "    }\n",
              "    (() => {\n",
              "      let quickchartButtonEl =\n",
              "        document.querySelector('#df-215b77c9-32ea-4990-94b3-c6363f27f05e button');\n",
              "      quickchartButtonEl.style.display =\n",
              "        google.colab.kernel.accessAllowed ? 'block' : 'none';\n",
              "    })();\n",
              "  </script>\n",
              "</div>\n",
              "    </div>\n",
              "  </div>\n"
            ],
            "application/vnd.google.colaboratory.intrinsic+json": {
              "type": "dataframe",
              "variable_name": "df"
            }
          },
          "metadata": {},
          "execution_count": 12
        }
      ]
    },
    {
      "cell_type": "code",
      "source": [
        "matrix, data, le_user, le_item = prepare_data(df, 0)\n",
        "matrix.shape"
      ],
      "metadata": {
        "id": "R7BBRtv8NHf8",
        "colab": {
          "base_uri": "https://localhost:8080/"
        },
        "outputId": "b2abf1e8-14d1-4d1a-da77-71741ea531c4"
      },
      "execution_count": null,
      "outputs": [
        {
          "output_type": "execute_result",
          "data": {
            "text/plain": [
              "(943, 1682)"
            ]
          },
          "metadata": {},
          "execution_count": 13
        }
      ]
    },
    {
      "cell_type": "code",
      "source": [
        "matrix"
      ],
      "metadata": {
        "colab": {
          "base_uri": "https://localhost:8080/"
        },
        "id": "QTLJrisJlpNR",
        "outputId": "f8e2e0e8-bbdd-4c07-f82e-f6658cfa9680"
      },
      "execution_count": null,
      "outputs": [
        {
          "output_type": "execute_result",
          "data": {
            "text/plain": [
              "array([[5., 3., 4., ..., 0., 0., 0.],\n",
              "       [4., 0., 0., ..., 0., 0., 0.],\n",
              "       [0., 0., 0., ..., 0., 0., 0.],\n",
              "       ...,\n",
              "       [5., 0., 0., ..., 0., 0., 0.],\n",
              "       [0., 0., 0., ..., 0., 0., 0.],\n",
              "       [0., 5., 0., ..., 0., 0., 0.]])"
            ]
          },
          "metadata": {},
          "execution_count": 14
        }
      ]
    },
    {
      "cell_type": "markdown",
      "source": [
        "Найдем для каждого пользователя/объекта топ-5 ближайших."
      ],
      "metadata": {
        "id": "ShwEqts8Owpj"
      }
    },
    {
      "cell_type": "code",
      "source": [
        "nn = NearestNeighbors(n_neighbors=5, metric='cosine')\n",
        "nn.fit(matrix)"
      ],
      "metadata": {
        "id": "v-35ZyebN0VN",
        "colab": {
          "base_uri": "https://localhost:8080/",
          "height": 80
        },
        "outputId": "6d079910-b8d7-40f9-ba1f-920f61b87c5c"
      },
      "execution_count": null,
      "outputs": [
        {
          "output_type": "execute_result",
          "data": {
            "text/plain": [
              "NearestNeighbors(metric='cosine')"
            ],
            "text/html": [
              "<style>#sk-container-id-1 {\n",
              "  /* Definition of color scheme common for light and dark mode */\n",
              "  --sklearn-color-text: black;\n",
              "  --sklearn-color-line: gray;\n",
              "  /* Definition of color scheme for unfitted estimators */\n",
              "  --sklearn-color-unfitted-level-0: #fff5e6;\n",
              "  --sklearn-color-unfitted-level-1: #f6e4d2;\n",
              "  --sklearn-color-unfitted-level-2: #ffe0b3;\n",
              "  --sklearn-color-unfitted-level-3: chocolate;\n",
              "  /* Definition of color scheme for fitted estimators */\n",
              "  --sklearn-color-fitted-level-0: #f0f8ff;\n",
              "  --sklearn-color-fitted-level-1: #d4ebff;\n",
              "  --sklearn-color-fitted-level-2: #b3dbfd;\n",
              "  --sklearn-color-fitted-level-3: cornflowerblue;\n",
              "\n",
              "  /* Specific color for light theme */\n",
              "  --sklearn-color-text-on-default-background: var(--sg-text-color, var(--theme-code-foreground, var(--jp-content-font-color1, black)));\n",
              "  --sklearn-color-background: var(--sg-background-color, var(--theme-background, var(--jp-layout-color0, white)));\n",
              "  --sklearn-color-border-box: var(--sg-text-color, var(--theme-code-foreground, var(--jp-content-font-color1, black)));\n",
              "  --sklearn-color-icon: #696969;\n",
              "\n",
              "  @media (prefers-color-scheme: dark) {\n",
              "    /* Redefinition of color scheme for dark theme */\n",
              "    --sklearn-color-text-on-default-background: var(--sg-text-color, var(--theme-code-foreground, var(--jp-content-font-color1, white)));\n",
              "    --sklearn-color-background: var(--sg-background-color, var(--theme-background, var(--jp-layout-color0, #111)));\n",
              "    --sklearn-color-border-box: var(--sg-text-color, var(--theme-code-foreground, var(--jp-content-font-color1, white)));\n",
              "    --sklearn-color-icon: #878787;\n",
              "  }\n",
              "}\n",
              "\n",
              "#sk-container-id-1 {\n",
              "  color: var(--sklearn-color-text);\n",
              "}\n",
              "\n",
              "#sk-container-id-1 pre {\n",
              "  padding: 0;\n",
              "}\n",
              "\n",
              "#sk-container-id-1 input.sk-hidden--visually {\n",
              "  border: 0;\n",
              "  clip: rect(1px 1px 1px 1px);\n",
              "  clip: rect(1px, 1px, 1px, 1px);\n",
              "  height: 1px;\n",
              "  margin: -1px;\n",
              "  overflow: hidden;\n",
              "  padding: 0;\n",
              "  position: absolute;\n",
              "  width: 1px;\n",
              "}\n",
              "\n",
              "#sk-container-id-1 div.sk-dashed-wrapped {\n",
              "  border: 1px dashed var(--sklearn-color-line);\n",
              "  margin: 0 0.4em 0.5em 0.4em;\n",
              "  box-sizing: border-box;\n",
              "  padding-bottom: 0.4em;\n",
              "  background-color: var(--sklearn-color-background);\n",
              "}\n",
              "\n",
              "#sk-container-id-1 div.sk-container {\n",
              "  /* jupyter's `normalize.less` sets `[hidden] { display: none; }`\n",
              "     but bootstrap.min.css set `[hidden] { display: none !important; }`\n",
              "     so we also need the `!important` here to be able to override the\n",
              "     default hidden behavior on the sphinx rendered scikit-learn.org.\n",
              "     See: https://github.com/scikit-learn/scikit-learn/issues/21755 */\n",
              "  display: inline-block !important;\n",
              "  position: relative;\n",
              "}\n",
              "\n",
              "#sk-container-id-1 div.sk-text-repr-fallback {\n",
              "  display: none;\n",
              "}\n",
              "\n",
              "div.sk-parallel-item,\n",
              "div.sk-serial,\n",
              "div.sk-item {\n",
              "  /* draw centered vertical line to link estimators */\n",
              "  background-image: linear-gradient(var(--sklearn-color-text-on-default-background), var(--sklearn-color-text-on-default-background));\n",
              "  background-size: 2px 100%;\n",
              "  background-repeat: no-repeat;\n",
              "  background-position: center center;\n",
              "}\n",
              "\n",
              "/* Parallel-specific style estimator block */\n",
              "\n",
              "#sk-container-id-1 div.sk-parallel-item::after {\n",
              "  content: \"\";\n",
              "  width: 100%;\n",
              "  border-bottom: 2px solid var(--sklearn-color-text-on-default-background);\n",
              "  flex-grow: 1;\n",
              "}\n",
              "\n",
              "#sk-container-id-1 div.sk-parallel {\n",
              "  display: flex;\n",
              "  align-items: stretch;\n",
              "  justify-content: center;\n",
              "  background-color: var(--sklearn-color-background);\n",
              "  position: relative;\n",
              "}\n",
              "\n",
              "#sk-container-id-1 div.sk-parallel-item {\n",
              "  display: flex;\n",
              "  flex-direction: column;\n",
              "}\n",
              "\n",
              "#sk-container-id-1 div.sk-parallel-item:first-child::after {\n",
              "  align-self: flex-end;\n",
              "  width: 50%;\n",
              "}\n",
              "\n",
              "#sk-container-id-1 div.sk-parallel-item:last-child::after {\n",
              "  align-self: flex-start;\n",
              "  width: 50%;\n",
              "}\n",
              "\n",
              "#sk-container-id-1 div.sk-parallel-item:only-child::after {\n",
              "  width: 0;\n",
              "}\n",
              "\n",
              "/* Serial-specific style estimator block */\n",
              "\n",
              "#sk-container-id-1 div.sk-serial {\n",
              "  display: flex;\n",
              "  flex-direction: column;\n",
              "  align-items: center;\n",
              "  background-color: var(--sklearn-color-background);\n",
              "  padding-right: 1em;\n",
              "  padding-left: 1em;\n",
              "}\n",
              "\n",
              "\n",
              "/* Toggleable style: style used for estimator/Pipeline/ColumnTransformer box that is\n",
              "clickable and can be expanded/collapsed.\n",
              "- Pipeline and ColumnTransformer use this feature and define the default style\n",
              "- Estimators will overwrite some part of the style using the `sk-estimator` class\n",
              "*/\n",
              "\n",
              "/* Pipeline and ColumnTransformer style (default) */\n",
              "\n",
              "#sk-container-id-1 div.sk-toggleable {\n",
              "  /* Default theme specific background. It is overwritten whether we have a\n",
              "  specific estimator or a Pipeline/ColumnTransformer */\n",
              "  background-color: var(--sklearn-color-background);\n",
              "}\n",
              "\n",
              "/* Toggleable label */\n",
              "#sk-container-id-1 label.sk-toggleable__label {\n",
              "  cursor: pointer;\n",
              "  display: block;\n",
              "  width: 100%;\n",
              "  margin-bottom: 0;\n",
              "  padding: 0.5em;\n",
              "  box-sizing: border-box;\n",
              "  text-align: center;\n",
              "}\n",
              "\n",
              "#sk-container-id-1 label.sk-toggleable__label-arrow:before {\n",
              "  /* Arrow on the left of the label */\n",
              "  content: \"▸\";\n",
              "  float: left;\n",
              "  margin-right: 0.25em;\n",
              "  color: var(--sklearn-color-icon);\n",
              "}\n",
              "\n",
              "#sk-container-id-1 label.sk-toggleable__label-arrow:hover:before {\n",
              "  color: var(--sklearn-color-text);\n",
              "}\n",
              "\n",
              "/* Toggleable content - dropdown */\n",
              "\n",
              "#sk-container-id-1 div.sk-toggleable__content {\n",
              "  max-height: 0;\n",
              "  max-width: 0;\n",
              "  overflow: hidden;\n",
              "  text-align: left;\n",
              "  /* unfitted */\n",
              "  background-color: var(--sklearn-color-unfitted-level-0);\n",
              "}\n",
              "\n",
              "#sk-container-id-1 div.sk-toggleable__content.fitted {\n",
              "  /* fitted */\n",
              "  background-color: var(--sklearn-color-fitted-level-0);\n",
              "}\n",
              "\n",
              "#sk-container-id-1 div.sk-toggleable__content pre {\n",
              "  margin: 0.2em;\n",
              "  border-radius: 0.25em;\n",
              "  color: var(--sklearn-color-text);\n",
              "  /* unfitted */\n",
              "  background-color: var(--sklearn-color-unfitted-level-0);\n",
              "}\n",
              "\n",
              "#sk-container-id-1 div.sk-toggleable__content.fitted pre {\n",
              "  /* unfitted */\n",
              "  background-color: var(--sklearn-color-fitted-level-0);\n",
              "}\n",
              "\n",
              "#sk-container-id-1 input.sk-toggleable__control:checked~div.sk-toggleable__content {\n",
              "  /* Expand drop-down */\n",
              "  max-height: 200px;\n",
              "  max-width: 100%;\n",
              "  overflow: auto;\n",
              "}\n",
              "\n",
              "#sk-container-id-1 input.sk-toggleable__control:checked~label.sk-toggleable__label-arrow:before {\n",
              "  content: \"▾\";\n",
              "}\n",
              "\n",
              "/* Pipeline/ColumnTransformer-specific style */\n",
              "\n",
              "#sk-container-id-1 div.sk-label input.sk-toggleable__control:checked~label.sk-toggleable__label {\n",
              "  color: var(--sklearn-color-text);\n",
              "  background-color: var(--sklearn-color-unfitted-level-2);\n",
              "}\n",
              "\n",
              "#sk-container-id-1 div.sk-label.fitted input.sk-toggleable__control:checked~label.sk-toggleable__label {\n",
              "  background-color: var(--sklearn-color-fitted-level-2);\n",
              "}\n",
              "\n",
              "/* Estimator-specific style */\n",
              "\n",
              "/* Colorize estimator box */\n",
              "#sk-container-id-1 div.sk-estimator input.sk-toggleable__control:checked~label.sk-toggleable__label {\n",
              "  /* unfitted */\n",
              "  background-color: var(--sklearn-color-unfitted-level-2);\n",
              "}\n",
              "\n",
              "#sk-container-id-1 div.sk-estimator.fitted input.sk-toggleable__control:checked~label.sk-toggleable__label {\n",
              "  /* fitted */\n",
              "  background-color: var(--sklearn-color-fitted-level-2);\n",
              "}\n",
              "\n",
              "#sk-container-id-1 div.sk-label label.sk-toggleable__label,\n",
              "#sk-container-id-1 div.sk-label label {\n",
              "  /* The background is the default theme color */\n",
              "  color: var(--sklearn-color-text-on-default-background);\n",
              "}\n",
              "\n",
              "/* On hover, darken the color of the background */\n",
              "#sk-container-id-1 div.sk-label:hover label.sk-toggleable__label {\n",
              "  color: var(--sklearn-color-text);\n",
              "  background-color: var(--sklearn-color-unfitted-level-2);\n",
              "}\n",
              "\n",
              "/* Label box, darken color on hover, fitted */\n",
              "#sk-container-id-1 div.sk-label.fitted:hover label.sk-toggleable__label.fitted {\n",
              "  color: var(--sklearn-color-text);\n",
              "  background-color: var(--sklearn-color-fitted-level-2);\n",
              "}\n",
              "\n",
              "/* Estimator label */\n",
              "\n",
              "#sk-container-id-1 div.sk-label label {\n",
              "  font-family: monospace;\n",
              "  font-weight: bold;\n",
              "  display: inline-block;\n",
              "  line-height: 1.2em;\n",
              "}\n",
              "\n",
              "#sk-container-id-1 div.sk-label-container {\n",
              "  text-align: center;\n",
              "}\n",
              "\n",
              "/* Estimator-specific */\n",
              "#sk-container-id-1 div.sk-estimator {\n",
              "  font-family: monospace;\n",
              "  border: 1px dotted var(--sklearn-color-border-box);\n",
              "  border-radius: 0.25em;\n",
              "  box-sizing: border-box;\n",
              "  margin-bottom: 0.5em;\n",
              "  /* unfitted */\n",
              "  background-color: var(--sklearn-color-unfitted-level-0);\n",
              "}\n",
              "\n",
              "#sk-container-id-1 div.sk-estimator.fitted {\n",
              "  /* fitted */\n",
              "  background-color: var(--sklearn-color-fitted-level-0);\n",
              "}\n",
              "\n",
              "/* on hover */\n",
              "#sk-container-id-1 div.sk-estimator:hover {\n",
              "  /* unfitted */\n",
              "  background-color: var(--sklearn-color-unfitted-level-2);\n",
              "}\n",
              "\n",
              "#sk-container-id-1 div.sk-estimator.fitted:hover {\n",
              "  /* fitted */\n",
              "  background-color: var(--sklearn-color-fitted-level-2);\n",
              "}\n",
              "\n",
              "/* Specification for estimator info (e.g. \"i\" and \"?\") */\n",
              "\n",
              "/* Common style for \"i\" and \"?\" */\n",
              "\n",
              ".sk-estimator-doc-link,\n",
              "a:link.sk-estimator-doc-link,\n",
              "a:visited.sk-estimator-doc-link {\n",
              "  float: right;\n",
              "  font-size: smaller;\n",
              "  line-height: 1em;\n",
              "  font-family: monospace;\n",
              "  background-color: var(--sklearn-color-background);\n",
              "  border-radius: 1em;\n",
              "  height: 1em;\n",
              "  width: 1em;\n",
              "  text-decoration: none !important;\n",
              "  margin-left: 1ex;\n",
              "  /* unfitted */\n",
              "  border: var(--sklearn-color-unfitted-level-1) 1pt solid;\n",
              "  color: var(--sklearn-color-unfitted-level-1);\n",
              "}\n",
              "\n",
              ".sk-estimator-doc-link.fitted,\n",
              "a:link.sk-estimator-doc-link.fitted,\n",
              "a:visited.sk-estimator-doc-link.fitted {\n",
              "  /* fitted */\n",
              "  border: var(--sklearn-color-fitted-level-1) 1pt solid;\n",
              "  color: var(--sklearn-color-fitted-level-1);\n",
              "}\n",
              "\n",
              "/* On hover */\n",
              "div.sk-estimator:hover .sk-estimator-doc-link:hover,\n",
              ".sk-estimator-doc-link:hover,\n",
              "div.sk-label-container:hover .sk-estimator-doc-link:hover,\n",
              ".sk-estimator-doc-link:hover {\n",
              "  /* unfitted */\n",
              "  background-color: var(--sklearn-color-unfitted-level-3);\n",
              "  color: var(--sklearn-color-background);\n",
              "  text-decoration: none;\n",
              "}\n",
              "\n",
              "div.sk-estimator.fitted:hover .sk-estimator-doc-link.fitted:hover,\n",
              ".sk-estimator-doc-link.fitted:hover,\n",
              "div.sk-label-container:hover .sk-estimator-doc-link.fitted:hover,\n",
              ".sk-estimator-doc-link.fitted:hover {\n",
              "  /* fitted */\n",
              "  background-color: var(--sklearn-color-fitted-level-3);\n",
              "  color: var(--sklearn-color-background);\n",
              "  text-decoration: none;\n",
              "}\n",
              "\n",
              "/* Span, style for the box shown on hovering the info icon */\n",
              ".sk-estimator-doc-link span {\n",
              "  display: none;\n",
              "  z-index: 9999;\n",
              "  position: relative;\n",
              "  font-weight: normal;\n",
              "  right: .2ex;\n",
              "  padding: .5ex;\n",
              "  margin: .5ex;\n",
              "  width: min-content;\n",
              "  min-width: 20ex;\n",
              "  max-width: 50ex;\n",
              "  color: var(--sklearn-color-text);\n",
              "  box-shadow: 2pt 2pt 4pt #999;\n",
              "  /* unfitted */\n",
              "  background: var(--sklearn-color-unfitted-level-0);\n",
              "  border: .5pt solid var(--sklearn-color-unfitted-level-3);\n",
              "}\n",
              "\n",
              ".sk-estimator-doc-link.fitted span {\n",
              "  /* fitted */\n",
              "  background: var(--sklearn-color-fitted-level-0);\n",
              "  border: var(--sklearn-color-fitted-level-3);\n",
              "}\n",
              "\n",
              ".sk-estimator-doc-link:hover span {\n",
              "  display: block;\n",
              "}\n",
              "\n",
              "/* \"?\"-specific style due to the `<a>` HTML tag */\n",
              "\n",
              "#sk-container-id-1 a.estimator_doc_link {\n",
              "  float: right;\n",
              "  font-size: 1rem;\n",
              "  line-height: 1em;\n",
              "  font-family: monospace;\n",
              "  background-color: var(--sklearn-color-background);\n",
              "  border-radius: 1rem;\n",
              "  height: 1rem;\n",
              "  width: 1rem;\n",
              "  text-decoration: none;\n",
              "  /* unfitted */\n",
              "  color: var(--sklearn-color-unfitted-level-1);\n",
              "  border: var(--sklearn-color-unfitted-level-1) 1pt solid;\n",
              "}\n",
              "\n",
              "#sk-container-id-1 a.estimator_doc_link.fitted {\n",
              "  /* fitted */\n",
              "  border: var(--sklearn-color-fitted-level-1) 1pt solid;\n",
              "  color: var(--sklearn-color-fitted-level-1);\n",
              "}\n",
              "\n",
              "/* On hover */\n",
              "#sk-container-id-1 a.estimator_doc_link:hover {\n",
              "  /* unfitted */\n",
              "  background-color: var(--sklearn-color-unfitted-level-3);\n",
              "  color: var(--sklearn-color-background);\n",
              "  text-decoration: none;\n",
              "}\n",
              "\n",
              "#sk-container-id-1 a.estimator_doc_link.fitted:hover {\n",
              "  /* fitted */\n",
              "  background-color: var(--sklearn-color-fitted-level-3);\n",
              "}\n",
              "</style><div id=\"sk-container-id-1\" class=\"sk-top-container\"><div class=\"sk-text-repr-fallback\"><pre>NearestNeighbors(metric=&#x27;cosine&#x27;)</pre><b>In a Jupyter environment, please rerun this cell to show the HTML representation or trust the notebook. <br />On GitHub, the HTML representation is unable to render, please try loading this page with nbviewer.org.</b></div><div class=\"sk-container\" hidden><div class=\"sk-item\"><div class=\"sk-estimator fitted sk-toggleable\"><input class=\"sk-toggleable__control sk-hidden--visually\" id=\"sk-estimator-id-1\" type=\"checkbox\" checked><label for=\"sk-estimator-id-1\" class=\"sk-toggleable__label fitted sk-toggleable__label-arrow fitted\">&nbsp;&nbsp;NearestNeighbors<a class=\"sk-estimator-doc-link fitted\" rel=\"noreferrer\" target=\"_blank\" href=\"https://scikit-learn.org/1.5/modules/generated/sklearn.neighbors.NearestNeighbors.html\">?<span>Documentation for NearestNeighbors</span></a><span class=\"sk-estimator-doc-link fitted\">i<span>Fitted</span></span></label><div class=\"sk-toggleable__content fitted\"><pre>NearestNeighbors(metric=&#x27;cosine&#x27;)</pre></div> </div></div></div></div>"
            ]
          },
          "metadata": {},
          "execution_count": 15
        }
      ]
    },
    {
      "cell_type": "code",
      "source": [
        "res = nn.kneighbors(n_neighbors=5, return_distance=True)"
      ],
      "metadata": {
        "id": "3bwJps6VmnY3"
      },
      "execution_count": null,
      "outputs": []
    },
    {
      "cell_type": "code",
      "source": [
        "res"
      ],
      "metadata": {
        "colab": {
          "base_uri": "https://localhost:8080/"
        },
        "id": "8i4y0CuUnBcb",
        "outputId": "b9cd573a-8aec-42a0-c3ec-b50c23f8f337"
      },
      "execution_count": null,
      "outputs": [
        {
          "output_type": "execute_result",
          "data": {
            "text/plain": [
              "(array([[0.59427149, 0.60518062, 0.61820833, 0.62828658, 0.6322421 ],\n",
              "        [0.52553875, 0.54555288, 0.54728956, 0.55862954, 0.56454717],\n",
              "        [0.59319158, 0.63887727, 0.64347507, 0.64678767, 0.65282597],\n",
              "        ...,\n",
              "        [0.49830971, 0.53576001, 0.58437442, 0.5961833 , 0.59620126],\n",
              "        [0.59224456, 0.6192453 , 0.62202048, 0.63421442, 0.64215192],\n",
              "        [0.45239179, 0.4906137 , 0.49853545, 0.50678107, 0.50802767]]),\n",
              " array([[822, 513, 863, 591, 520],\n",
              "        [519, 734, 677, 700, 265],\n",
              "        [655, 610, 783, 586, 488],\n",
              "        ...,\n",
              "        [688, 816, 729, 741, 581],\n",
              "        [453, 473, 779, 487, 478],\n",
              "        [681, 932, 550, 708, 585]]))"
            ]
          },
          "metadata": {},
          "execution_count": 17
        }
      ]
    },
    {
      "cell_type": "markdown",
      "source": [
        "Предскажем отсутствующие оценки как среднее оценок ближайших"
      ],
      "metadata": {
        "id": "a22M2DaXO_C7"
      }
    },
    {
      "cell_type": "code",
      "source": [
        "matrix[res[1][0]].mean(axis=0)"
      ],
      "metadata": {
        "id": "oXk8G-VZOPsD",
        "colab": {
          "base_uri": "https://localhost:8080/"
        },
        "outputId": "7b32c5d5-1fb9-43a8-9b92-c55924feaa94"
      },
      "execution_count": null,
      "outputs": [
        {
          "output_type": "execute_result",
          "data": {
            "text/plain": [
              "array([4. , 1.4, 0.8, ..., 0. , 0. , 0. ])"
            ]
          },
          "metadata": {},
          "execution_count": 20
        }
      ]
    },
    {
      "cell_type": "markdown",
      "source": [
        "Посчитаем качество получившихся оценок"
      ],
      "metadata": {
        "id": "bVb_uOp_PP2N"
      }
    },
    {
      "cell_type": "code",
      "source": [],
      "metadata": {
        "id": "hpvbjc_ZPQDN"
      },
      "execution_count": null,
      "outputs": []
    },
    {
      "cell_type": "markdown",
      "source": [
        "### Surprise"
      ],
      "metadata": {
        "id": "W6sy47Q-OQOS"
      }
    },
    {
      "cell_type": "markdown",
      "source": [
        "А еще есть библиотека surprise, в которой собраны многие методы и датасеты для рексистем"
      ],
      "metadata": {
        "id": "tPnM7UZ7OY4_"
      }
    },
    {
      "cell_type": "code",
      "source": [
        "!pip install surprise --q"
      ],
      "metadata": {
        "id": "-wh7Z8AeObfZ",
        "colab": {
          "base_uri": "https://localhost:8080/"
        },
        "outputId": "db303a68-4a08-4f56-ff68-aa23680432f5"
      },
      "execution_count": null,
      "outputs": [
        {
          "output_type": "stream",
          "name": "stdout",
          "text": [
            "\u001b[?25l     \u001b[90m━━━━━━━━━━━━━━━━━━━━━━━━━━━━━━━━━━━━━━━━\u001b[0m \u001b[32m0.0/154.4 kB\u001b[0m \u001b[31m?\u001b[0m eta \u001b[36m-:--:--\u001b[0m\r\u001b[2K     \u001b[91m━━━━━━━━━━━━━━━━━━━━━\u001b[0m\u001b[90m╺\u001b[0m\u001b[90m━━━━━━━━━━━━━━━━━━\u001b[0m \u001b[32m81.9/154.4 kB\u001b[0m \u001b[31m2.9 MB/s\u001b[0m eta \u001b[36m0:00:01\u001b[0m\r\u001b[2K     \u001b[90m━━━━━━━━━━━━━━━━━━━━━━━━━━━━━━━━━━━━━━━━\u001b[0m \u001b[32m154.4/154.4 kB\u001b[0m \u001b[31m2.9 MB/s\u001b[0m eta \u001b[36m0:00:00\u001b[0m\n",
            "\u001b[?25h  Installing build dependencies ... \u001b[?25l\u001b[?25hdone\n",
            "  Getting requirements to build wheel ... \u001b[?25l\u001b[?25hdone\n",
            "  Preparing metadata (pyproject.toml) ... \u001b[?25l\u001b[?25hdone\n",
            "  Building wheel for scikit-surprise (pyproject.toml) ... \u001b[?25l\u001b[?25hdone\n"
          ]
        }
      ]
    },
    {
      "cell_type": "code",
      "source": [
        "from surprise import SVD\n",
        "from surprise import Dataset\n",
        "from surprise.model_selection import cross_validate"
      ],
      "metadata": {
        "id": "mi3S7j07OZRs"
      },
      "execution_count": null,
      "outputs": []
    },
    {
      "cell_type": "code",
      "source": [
        "# Load the movielens-100k dataset (download it if needed).\n",
        "data = Dataset.load_builtin('ml-100k')\n",
        "data"
      ],
      "metadata": {
        "id": "-VBdXKb4Ofjl",
        "colab": {
          "base_uri": "https://localhost:8080/"
        },
        "outputId": "27e5fbc5-1a16-45f5-feda-dd0b965c2ea3"
      },
      "execution_count": null,
      "outputs": [
        {
          "output_type": "stream",
          "name": "stdout",
          "text": [
            "Dataset ml-100k could not be found. Do you want to download it? [Y/n] Y\n",
            "Trying to download dataset from https://files.grouplens.org/datasets/movielens/ml-100k.zip...\n",
            "Done! Dataset ml-100k has been saved to /root/.surprise_data/ml-100k\n"
          ]
        },
        {
          "output_type": "execute_result",
          "data": {
            "text/plain": [
              "<surprise.dataset.DatasetAutoFolds at 0x7db555ab7e80>"
            ]
          },
          "metadata": {},
          "execution_count": 3
        }
      ]
    },
    {
      "cell_type": "code",
      "source": [
        "# Use the famous SVD algorithm.\n",
        "algo = SVD()\n",
        "algo"
      ],
      "metadata": {
        "id": "pvRUIDmGPLNk",
        "colab": {
          "base_uri": "https://localhost:8080/"
        },
        "outputId": "7bec5409-41d5-4839-cff2-d563478e9945"
      },
      "execution_count": null,
      "outputs": [
        {
          "output_type": "execute_result",
          "data": {
            "text/plain": [
              "<surprise.prediction_algorithms.matrix_factorization.SVD at 0x7db5552ff550>"
            ]
          },
          "metadata": {},
          "execution_count": 4
        }
      ]
    },
    {
      "cell_type": "code",
      "source": [
        "# Run 5-fold cross-validation and print results.\n",
        "cv_res = cross_validate(algo, data, measures=['RMSE', 'MAE'], cv=5, verbose=True)"
      ],
      "metadata": {
        "id": "Cli-yEUIPJ36",
        "colab": {
          "base_uri": "https://localhost:8080/"
        },
        "outputId": "4a35de38-61b7-44d9-b088-37e49b28e565"
      },
      "execution_count": null,
      "outputs": [
        {
          "output_type": "stream",
          "name": "stdout",
          "text": [
            "Evaluating RMSE, MAE of algorithm SVD on 5 split(s).\n",
            "\n",
            "                  Fold 1  Fold 2  Fold 3  Fold 4  Fold 5  Mean    Std     \n",
            "RMSE (testset)    0.9349  0.9311  0.9354  0.9396  0.9394  0.9361  0.0032  \n",
            "MAE (testset)     0.7364  0.7342  0.7361  0.7437  0.7405  0.7382  0.0034  \n",
            "Fit time          2.98    1.70    1.82    1.39    1.37    1.85    0.59    \n",
            "Test time         0.29    0.28    0.11    0.21    0.11    0.20    0.08    \n"
          ]
        }
      ]
    },
    {
      "cell_type": "code",
      "source": [
        "cv_res"
      ],
      "metadata": {
        "id": "P_ZAczYVPMj9",
        "colab": {
          "base_uri": "https://localhost:8080/"
        },
        "outputId": "15444230-70f7-4d51-d6d6-247925310bc9"
      },
      "execution_count": null,
      "outputs": [
        {
          "output_type": "execute_result",
          "data": {
            "text/plain": [
              "{'test_rmse': array([0.9349106 , 0.93112037, 0.93540734, 0.9396431 , 0.93939263]),\n",
              " 'test_mae': array([0.73644459, 0.73421179, 0.73605624, 0.74373255, 0.74047462]),\n",
              " 'fit_time': (2.9752635955810547,\n",
              "  1.6991918087005615,\n",
              "  1.815857172012329,\n",
              "  1.3855199813842773,\n",
              "  1.3693408966064453),\n",
              " 'test_time': (0.29216980934143066,\n",
              "  0.27733898162841797,\n",
              "  0.11218833923339844,\n",
              "  0.20679688453674316,\n",
              "  0.11165857315063477)}"
            ]
          },
          "metadata": {},
          "execution_count": 6
        }
      ]
    },
    {
      "cell_type": "code",
      "source": [],
      "metadata": {
        "id": "dmj-RKbhPYoF"
      },
      "execution_count": null,
      "outputs": []
    }
  ]
}