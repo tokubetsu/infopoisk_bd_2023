{
 "cells": [
  {
   "cell_type": "markdown",
   "id": "f6315be4",
   "metadata": {},
   "source": [
    "# Повторяем питон "
   ]
  },
  {
   "cell_type": "markdown",
   "id": "f1d66a14",
   "metadata": {},
   "source": [
    "## 0. Импорты"
   ]
  },
  {
   "cell_type": "code",
   "execution_count": 1,
   "id": "d0fb07f1",
   "metadata": {},
   "outputs": [],
   "source": [
    "import pandas as pd\n",
    "import scipy as sp\n",
    "import numpy as np\n",
    "import random\n",
    "import os\n",
    "import json\n",
    "import sys\n",
    "from tqdm import tqdm\n",
    "import random\n",
    "\n",
    "import nltk\n",
    "from nltk.tokenize import word_tokenize\n",
    "from nltk.corpus import stopwords\n",
    "import pymorphy2\n",
    "\n",
    "from sklearn.datasets import make_classification\n",
    "from sklearn.feature_extraction.text import CountVectorizer\n",
    "from scipy.sparse import csr_array"
   ]
  },
  {
   "cell_type": "code",
   "execution_count": 2,
   "id": "0193514d",
   "metadata": {},
   "outputs": [],
   "source": [
    "morph = pymorphy2.MorphAnalyzer()\n",
    "stops = stopwords.words('russian')\n",
    "# nltk.download('punkt')"
   ]
  },
  {
   "cell_type": "markdown",
   "id": "d468b541",
   "metadata": {},
   "source": [
    "## 1. Про пути"
   ]
  },
  {
   "cell_type": "markdown",
   "id": "3ce94d5a",
   "metadata": {},
   "source": [
    "- Абсолютные пути - это очень плохая идея в любом проекте серьезнее домашки первого курса. Причина: скорее всего кто-то (преподаватель, ассистент, коллега, ученик) будет пытаться запускать ваш код, и будет очень расстроен, если ему придется лезть вглубь каких-то непонятных ему функций просто для того, чтобы прпавильно прочитать файл\n",
    "</br>Например, из папки `/Users/some_user/study/something` лучше обозначить путь так: `/some_dir`, чем так: `/Users/some_user/study/something/some_dir`\n",
    "- Старайтесь собирать пути через `os.path.join` (или любую другую либу), так как он умеет внутри себя учитывать особенности типа наклона слэша (как вы знаете, он разный у unix-based систем и windows)\n",
    "- Вообще, библиотека `os` сейчас уже скорее deprecated, все стараются пользоваться `pathlib`, но для каких-то простых штук старая библиотека все еще удобнее, так как намного проще. Но использование красивых решений поощряется :)"
   ]
  },
  {
   "cell_type": "markdown",
   "id": "d98ea1f9",
   "metadata": {},
   "source": [
    "## 2. Нотация"
   ]
  },
  {
   "cell_type": "code",
   "execution_count": 3,
   "id": "ab5a666a",
   "metadata": {},
   "outputs": [],
   "source": [
    "def do_something(lst: list[str], bad: bool = False) -> list[str]:\n",
    "    '''\n",
    "    This function does something (bad or good) to list\n",
    "    :param lst: list of input strings\n",
    "    :param bad: marker if bad action should be done\n",
    "    :return: sorted (or not...) input list\n",
    "    '''\n",
    "    if bad:\n",
    "        random.shuffle(lst)\n",
    "        return lst\n",
    "    else:\n",
    "        return sorted(lst)"
   ]
  },
  {
   "cell_type": "code",
   "execution_count": 4,
   "id": "ffcefa49",
   "metadata": {},
   "outputs": [],
   "source": [
    "lst = ['python', 'anaconda', 'spider', 'zoo']"
   ]
  },
  {
   "cell_type": "code",
   "execution_count": 5,
   "id": "2ee65539",
   "metadata": {},
   "outputs": [
    {
     "data": {
      "text/plain": [
       "['anaconda', 'python', 'spider', 'zoo']"
      ]
     },
     "execution_count": 5,
     "metadata": {},
     "output_type": "execute_result"
    }
   ],
   "source": [
    "do_something(lst, bad=False)"
   ]
  },
  {
   "cell_type": "code",
   "execution_count": 6,
   "id": "4a854209",
   "metadata": {},
   "outputs": [
    {
     "data": {
      "text/plain": [
       "['zoo', 'spider', 'anaconda', 'python']"
      ]
     },
     "execution_count": 6,
     "metadata": {},
     "output_type": "execute_result"
    }
   ],
   "source": [
    "do_something(lst, bad=True)"
   ]
  },
  {
   "cell_type": "markdown",
   "id": "0a7586e2",
   "metadata": {},
   "source": [
    "## 3. Ссылки & Co"
   ]
  },
  {
   "cell_type": "markdown",
   "id": "877bb749",
   "metadata": {},
   "source": [
    "Питон хранит все данные по ссылке, иногда это создает проблемы в неожиданных местах. `id()` - функция, которая позволяет получить индивидуальный номер объекта (а в питоне все объекты), то есть узнать, как питон ссылается на него в памяти"
   ]
  },
  {
   "cell_type": "code",
   "execution_count": 7,
   "id": "11998fae",
   "metadata": {},
   "outputs": [
    {
     "data": {
      "text/plain": [
       "(4333748432, 4333748432, 4333748432)"
      ]
     },
     "execution_count": 7,
     "metadata": {},
     "output_type": "execute_result"
    }
   ],
   "source": [
    "a = 0\n",
    "b = 1\n",
    "a_list = [0, b]\n",
    "id(0), id(a), id(a_list[0])"
   ]
  },
  {
   "cell_type": "code",
   "execution_count": 8,
   "id": "46f8d191",
   "metadata": {},
   "outputs": [
    {
     "data": {
      "text/plain": [
       "(4333748464, 4333748464, 4333748464)"
      ]
     },
     "execution_count": 8,
     "metadata": {},
     "output_type": "execute_result"
    }
   ],
   "source": [
    "id(1), id(b), id(a_list[1])"
   ]
  },
  {
   "cell_type": "code",
   "execution_count": 9,
   "id": "e2f14b38",
   "metadata": {},
   "outputs": [
    {
     "data": {
      "text/plain": [
       "(4333748496, 4333748496)"
      ]
     },
     "execution_count": 9,
     "metadata": {},
     "output_type": "execute_result"
    }
   ],
   "source": [
    "с = 2\n",
    "id(2), id(с)"
   ]
  },
  {
   "cell_type": "markdown",
   "id": "4dda257e",
   "metadata": {},
   "source": [
    "А вот с более сложными типами будет интереснее. Какой ответ ожидается в ячейке ниже?"
   ]
  },
  {
   "cell_type": "code",
   "execution_count": 10,
   "id": "53145834",
   "metadata": {},
   "outputs": [
    {
     "data": {
      "text/plain": [
       "(10870542400, 10870550784, 10870194304)"
      ]
     },
     "execution_count": 10,
     "metadata": {},
     "output_type": "execute_result"
    }
   ],
   "source": [
    "test_lst1 = [0, 4, 7, 9]\n",
    "test_lst2 = [2, 6, 3, 8]\n",
    "test_lst3 = [0, 4, 7, 9]\n",
    "id(test_lst1), id(test_lst2), id(test_lst3)"
   ]
  },
  {
   "cell_type": "markdown",
   "id": "129d6849",
   "metadata": {},
   "source": [
    "А теперь?"
   ]
  },
  {
   "cell_type": "code",
   "execution_count": 11,
   "id": "479ef952",
   "metadata": {},
   "outputs": [
    {
     "data": {
      "text/plain": [
       "(10870542400, 10870194304, 10870542400)"
      ]
     },
     "execution_count": 11,
     "metadata": {},
     "output_type": "execute_result"
    }
   ],
   "source": [
    "test_lst4 = test_lst1\n",
    "id(test_lst1), id(test_lst3), id(test_lst4)"
   ]
  },
  {
   "cell_type": "markdown",
   "id": "adb46543",
   "metadata": {},
   "source": [
    "Еще есть прикольная функция `sys.getrefcount`. Я слабо себе представляю, как она может пригодиться вам в жизни (если вы не занимаетесь хардкодом, но тогда вы скорее всего делаете это не на питоне...), но понять хранение питона точно поможет. Надо заметить, что эта функция внутри себя создает еще одну ссылку (возможно, для очень сложным структур больше, но тут я не уверена), так что полученное значение надо уменьшать на единицу"
   ]
  },
  {
   "cell_type": "code",
   "execution_count": 12,
   "id": "bf081d82",
   "metadata": {},
   "outputs": [
    {
     "data": {
      "text/plain": [
       "1"
      ]
     },
     "execution_count": 12,
     "metadata": {},
     "output_type": "execute_result"
    }
   ],
   "source": [
    "sys.getrefcount([])"
   ]
  },
  {
   "cell_type": "code",
   "execution_count": 13,
   "id": "c2bbe7f7",
   "metadata": {},
   "outputs": [
    {
     "data": {
      "text/plain": [
       "2"
      ]
     },
     "execution_count": 13,
     "metadata": {},
     "output_type": "execute_result"
    }
   ],
   "source": [
    "sys.getrefcount(test_lst2)"
   ]
  },
  {
   "cell_type": "code",
   "execution_count": 14,
   "id": "2cd3243e",
   "metadata": {},
   "outputs": [
    {
     "data": {
      "text/plain": [
       "3"
      ]
     },
     "execution_count": 14,
     "metadata": {},
     "output_type": "execute_result"
    }
   ],
   "source": [
    "sys.getrefcount(test_lst1)"
   ]
  },
  {
   "cell_type": "code",
   "execution_count": 16,
   "id": "59530216",
   "metadata": {},
   "outputs": [
    {
     "data": {
      "text/plain": [
       "3"
      ]
     },
     "execution_count": 16,
     "metadata": {},
     "output_type": "execute_result"
    }
   ],
   "source": [
    "sys.getrefcount(test_lst4)"
   ]
  },
  {
   "cell_type": "markdown",
   "id": "4881ddc3",
   "metadata": {},
   "source": [
    "А вот ниже мы, кажется, случайно увидели что-то очень для питона приватное: мы явно не ссылаемся на нули в таком количестве, значит, это информация о ссылках во внутренней струкутре питоне"
   ]
  },
  {
   "cell_type": "code",
   "execution_count": 17,
   "id": "708f0098",
   "metadata": {},
   "outputs": [
    {
     "data": {
      "text/plain": [
       "(14065, 11733, 96565)"
      ]
     },
     "execution_count": 17,
     "metadata": {},
     "output_type": "execute_result"
    }
   ],
   "source": [
    "sys.getrefcount(0), sys.getrefcount(True), sys.getrefcount(None)"
   ]
  },
  {
   "cell_type": "markdown",
   "id": "f4038073",
   "metadata": {},
   "source": [
    "Итак, с более сложными струкутрами данных питон начинает мухлевать и экономить усилия, дублируя в памяти ссылки, а не сами объекты. Это может ускорить работу и сэкономить память, но провоцирует опасные ситуации. Не баг, а фича, но фича с подвохом. "
   ]
  },
  {
   "cell_type": "markdown",
   "id": "ef425406",
   "metadata": {},
   "source": [
    "Теперь о подвохах"
   ]
  },
  {
   "cell_type": "code",
   "execution_count": 18,
   "id": "682ecdbe",
   "metadata": {},
   "outputs": [
    {
     "data": {
      "text/plain": [
       "([0, 4, 7, 9], [0, 4, 7, 9], [0, 4, 7, 9])"
      ]
     },
     "execution_count": 18,
     "metadata": {},
     "output_type": "execute_result"
    }
   ],
   "source": [
    "test_lst1, test_lst3, test_lst4"
   ]
  },
  {
   "cell_type": "code",
   "execution_count": 19,
   "id": "a9ca413c",
   "metadata": {},
   "outputs": [],
   "source": [
    "test_lst1.append(10)"
   ]
  },
  {
   "cell_type": "markdown",
   "id": "99428c28",
   "metadata": {},
   "source": [
    "Что мы ожидаем увидеть?"
   ]
  },
  {
   "cell_type": "code",
   "execution_count": 20,
   "id": "ee5416fa",
   "metadata": {},
   "outputs": [
    {
     "data": {
      "text/plain": [
       "([0, 4, 7, 9, 10], [0, 4, 7, 9], [0, 4, 7, 9, 10])"
      ]
     },
     "execution_count": 20,
     "metadata": {},
     "output_type": "execute_result"
    }
   ],
   "source": [
    "test_lst1, test_lst3, test_lst4"
   ]
  },
  {
   "cell_type": "markdown",
   "id": "593e358a",
   "metadata": {},
   "source": [
    "Теперь о менее очевидном, но более опасном\n",
    "</br>\n",
    "Пусть надо написать функцию, которая считает сумму всех элементов в двух списках. Узнав о классной встроенной функции `sum()` мы решили, что просто сложим все элемерты в первый список и посчитаем сумму. Тут со стороны кажется, что сплошные плюсы: мы экономим строки кода, экономим место в переменных..."
   ]
  },
  {
   "cell_type": "code",
   "execution_count": 21,
   "id": "a5499732",
   "metadata": {},
   "outputs": [],
   "source": [
    "def test_func1(lst1, lst2):\n",
    "    lst1 += lst2\n",
    "    return sum(lst1)"
   ]
  },
  {
   "cell_type": "code",
   "execution_count": 22,
   "id": "d9193496",
   "metadata": {},
   "outputs": [
    {
     "data": {
      "text/plain": [
       "49"
      ]
     },
     "execution_count": 22,
     "metadata": {},
     "output_type": "execute_result"
    }
   ],
   "source": [
    "test_func1(test_lst1, test_lst2)"
   ]
  },
  {
   "cell_type": "markdown",
   "id": "3bbe3160",
   "metadata": {},
   "source": [
    "Что будет выведено дальше?"
   ]
  },
  {
   "cell_type": "code",
   "execution_count": 23,
   "id": "f96510d9",
   "metadata": {},
   "outputs": [
    {
     "data": {
      "text/plain": [
       "([0, 4, 7, 9, 10, 2, 6, 3, 8], [2, 6, 3, 8])"
      ]
     },
     "execution_count": 23,
     "metadata": {},
     "output_type": "execute_result"
    }
   ],
   "source": [
    "test_lst1, test_lst2"
   ]
  },
  {
   "cell_type": "markdown",
   "id": "e8b859c3",
   "metadata": {},
   "source": [
    "А тепреь еще интереснее"
   ]
  },
  {
   "cell_type": "code",
   "execution_count": 24,
   "id": "9fa26927",
   "metadata": {},
   "outputs": [
    {
     "data": {
      "text/plain": [
       "[0, 4, 7, 9, 10, 2, 6, 3, 8]"
      ]
     },
     "execution_count": 24,
     "metadata": {},
     "output_type": "execute_result"
    }
   ],
   "source": [
    "test_lst4"
   ]
  },
  {
   "cell_type": "markdown",
   "id": "f81bb89c",
   "metadata": {},
   "source": [
    "Казалось бы, и в первом, и во втором случае мы его вообще не трогали, во втором мы еще и не сохраняли никуда резульатат, но питон все решил за нас. Если кому-то хочется пример из жизни, то у меня есть \"увлекательная\" история о том, как мне это усложнило работу над курсовой :)"
   ]
  },
  {
   "cell_type": "markdown",
   "id": "1634bcb5",
   "metadata": {},
   "source": [
    "Еще один пример, теперь про значения по умолчанию. Пусть нам надо написать функцию, которая получает на вход список пассажиров автобуса, имя пассажира и маркер того, что надо сделать: высадить или посадить. По умолчанию автобус пустой"
   ]
  },
  {
   "cell_type": "code",
   "execution_count": 25,
   "id": "26b84bdc",
   "metadata": {},
   "outputs": [],
   "source": [
    "def bus_func(bus=[], name=None, take=True):\n",
    "    if name is not None:\n",
    "        if take:\n",
    "            bus.append(name)\n",
    "        else:\n",
    "            if name in bus:\n",
    "                bus.remove(name) # высаживаем первого пассажира с таким именем... кому-то не повезет :)\n",
    "    return bus"
   ]
  },
  {
   "cell_type": "markdown",
   "id": "92ca9aea",
   "metadata": {},
   "source": [
    "Проверяем, что все работает"
   ]
  },
  {
   "cell_type": "code",
   "execution_count": 26,
   "id": "440e6e68",
   "metadata": {},
   "outputs": [
    {
     "data": {
      "text/plain": [
       "['Kate']"
      ]
     },
     "execution_count": 26,
     "metadata": {},
     "output_type": "execute_result"
    }
   ],
   "source": [
    "my_bus = []\n",
    "my_bus = bus_func(my_bus, 'Kate', True)\n",
    "my_bus"
   ]
  },
  {
   "cell_type": "code",
   "execution_count": 27,
   "id": "d5b94386",
   "metadata": {},
   "outputs": [
    {
     "data": {
      "text/plain": [
       "['Max']"
      ]
     },
     "execution_count": 27,
     "metadata": {},
     "output_type": "execute_result"
    }
   ],
   "source": [
    "my_bus = bus_func(my_bus, 'Max', True)\n",
    "my_bus = bus_func(my_bus, 'Kate', False)\n",
    "my_bus"
   ]
  },
  {
   "cell_type": "markdown",
   "id": "e1d6a12e",
   "metadata": {},
   "source": [
    "Посадим в пустой автобус кого-нибудь еще"
   ]
  },
  {
   "cell_type": "code",
   "execution_count": 28,
   "id": "d839d68e",
   "metadata": {},
   "outputs": [
    {
     "data": {
      "text/plain": [
       "['Alice', 'Peter']"
      ]
     },
     "execution_count": 28,
     "metadata": {},
     "output_type": "execute_result"
    }
   ],
   "source": [
    "my_bus2 = bus_func(name='Alice', take=True)\n",
    "my_bus2 = bus_func(my_bus2, 'Peter', True)\n",
    "my_bus2"
   ]
  },
  {
   "cell_type": "markdown",
   "id": "6d1800ed",
   "metadata": {},
   "source": [
    "Теперь в другой пустой автобус"
   ]
  },
  {
   "cell_type": "code",
   "execution_count": 29,
   "id": "f387f0ba",
   "metadata": {},
   "outputs": [
    {
     "data": {
      "text/plain": [
       "['Alice', 'Peter', 'John']"
      ]
     },
     "execution_count": 29,
     "metadata": {},
     "output_type": "execute_result"
    }
   ],
   "source": [
    "my_bus3 = bus_func(name='John', take=True)\n",
    "my_bus3"
   ]
  },
  {
   "cell_type": "markdown",
   "id": "576cff9a",
   "metadata": {},
   "source": [
    "И сделаем просто пустой автобус. Вдруг пригодится"
   ]
  },
  {
   "cell_type": "code",
   "execution_count": 30,
   "id": "d4a40bbf",
   "metadata": {},
   "outputs": [
    {
     "data": {
      "text/plain": [
       "['Alice', 'Peter', 'John']"
      ]
     },
     "execution_count": 30,
     "metadata": {},
     "output_type": "execute_result"
    }
   ],
   "source": [
    "my_bus4 = bus_func()\n",
    "my_bus4"
   ]
  },
  {
   "cell_type": "markdown",
   "id": "fa27df5c",
   "metadata": {},
   "source": [
    "Вспомним про второй автобус и высадим кого-нибудь оттуда"
   ]
  },
  {
   "cell_type": "code",
   "execution_count": 31,
   "id": "f96e15e7",
   "metadata": {},
   "outputs": [
    {
     "data": {
      "text/plain": [
       "['Alice', 'John']"
      ]
     },
     "execution_count": 31,
     "metadata": {},
     "output_type": "execute_result"
    }
   ],
   "source": [
    "my_bus2 = bus_func(my_bus3, 'Peter', False)\n",
    "my_bus2"
   ]
  },
  {
   "cell_type": "markdown",
   "id": "ddecbf6d",
   "metadata": {},
   "source": [
    "А теперь посмотрим, что же произошло с функцией. У каждой функции есть атрибут `__defaults__`, в котором содержаться значения по умолчанию аргументов этой функции"
   ]
  },
  {
   "cell_type": "code",
   "execution_count": 32,
   "id": "bdb0bc3f",
   "metadata": {},
   "outputs": [
    {
     "data": {
      "text/plain": [
       "(['Alice', 'John'], None, True)"
      ]
     },
     "execution_count": 32,
     "metadata": {},
     "output_type": "execute_result"
    }
   ],
   "source": [
    "bus_func.__defaults__"
   ]
  },
  {
   "cell_type": "markdown",
   "id": "1670e883",
   "metadata": {},
   "source": [
    "Ну, теперь это автобус, у которого есть пассажиры по умолчанию :)"
   ]
  },
  {
   "cell_type": "markdown",
   "id": "999b636b",
   "metadata": {},
   "source": [
    "Теперь разберемся, почему так происходит."
   ]
  },
  {
   "cell_type": "code",
   "execution_count": 33,
   "id": "63a0542a",
   "metadata": {},
   "outputs": [],
   "source": [
    "class MyList(list):\n",
    "    def __new__(cls, *args, **kwargs):\n",
    "        print('hello, im here')\n",
    "        return super(MyList, cls).__new__(cls, *args, **kwargs)\n",
    "    \n",
    "    def __init__(self, *args, **kwargs):\n",
    "        print('and here')\n",
    "        super().__init__(*args, **kwargs)"
   ]
  },
  {
   "cell_type": "code",
   "execution_count": 34,
   "id": "be822a0a",
   "metadata": {},
   "outputs": [
    {
     "name": "stdout",
     "output_type": "stream",
     "text": [
      "hello, im here\n",
      "and here\n"
     ]
    }
   ],
   "source": [
    "def bus_func_cust(bus=MyList(), name=None, take=True):\n",
    "    if name is not None:\n",
    "        if take:\n",
    "            bus.append(name)\n",
    "        else:\n",
    "            if name in bus:\n",
    "                bus.remove(name)\n",
    "    return bus"
   ]
  },
  {
   "cell_type": "code",
   "execution_count": 35,
   "id": "55e5cc2b",
   "metadata": {},
   "outputs": [
    {
     "data": {
      "text/plain": [
       "['Alice', 'Peter']"
      ]
     },
     "execution_count": 35,
     "metadata": {},
     "output_type": "execute_result"
    }
   ],
   "source": [
    "my_bus2 = bus_func_cust(name='Alice', take=True)\n",
    "my_bus2 = bus_func_cust(my_bus2, 'Peter', True)\n",
    "my_bus2"
   ]
  },
  {
   "cell_type": "code",
   "execution_count": 36,
   "id": "0f74975c",
   "metadata": {},
   "outputs": [
    {
     "data": {
      "text/plain": [
       "['Alice', 'Peter']"
      ]
     },
     "execution_count": 36,
     "metadata": {},
     "output_type": "execute_result"
    }
   ],
   "source": [
    "my_bus4 = bus_func_cust()\n",
    "my_bus4"
   ]
  },
  {
   "cell_type": "code",
   "execution_count": 37,
   "id": "b85f10ac",
   "metadata": {},
   "outputs": [
    {
     "data": {
      "text/plain": [
       "(['Alice', 'Peter'], None, True)"
      ]
     },
     "execution_count": 37,
     "metadata": {},
     "output_type": "execute_result"
    }
   ],
   "source": [
    "bus_func_cust.__defaults__"
   ]
  },
  {
   "cell_type": "markdown",
   "id": "cb102b69",
   "metadata": {},
   "source": [
    "## 4. Сравнения"
   ]
  },
  {
   "cell_type": "markdown",
   "id": "e4ca7dfa",
   "metadata": {},
   "source": [
    "Теперь с темы ссылок перейдем к сравнениям, они связаны. В питоне есть два способа проверить равенство двух объектов: </br>`a == b`</br>`a is b` </br>Давайте вернем наши чудесные списки"
   ]
  },
  {
   "cell_type": "code",
   "execution_count": 38,
   "id": "9a72fb53",
   "metadata": {},
   "outputs": [],
   "source": [
    "test_lst1 = [0, 4, 7, 9]\n",
    "test_lst2 = [2, 6, 3, 8]\n",
    "test_lst3 = [0, 4, 7, 9]\n",
    "test_lst4 = test_lst1"
   ]
  },
  {
   "cell_type": "markdown",
   "id": "53b1f1f0",
   "metadata": {},
   "source": [
    "Результаты какой пары из трех ячеек ниже совпадут?"
   ]
  },
  {
   "cell_type": "code",
   "execution_count": 39,
   "id": "2a5a2225",
   "metadata": {},
   "outputs": [
    {
     "data": {
      "text/plain": [
       "(False, True, True)"
      ]
     },
     "execution_count": 39,
     "metadata": {},
     "output_type": "execute_result"
    }
   ],
   "source": [
    "test_lst1 == test_lst2, test_lst1 == test_lst3, test_lst1 == test_lst4"
   ]
  },
  {
   "cell_type": "code",
   "execution_count": 40,
   "id": "cec13884",
   "metadata": {},
   "outputs": [
    {
     "data": {
      "text/plain": [
       "(False, False, True)"
      ]
     },
     "execution_count": 40,
     "metadata": {},
     "output_type": "execute_result"
    }
   ],
   "source": [
    "test_lst1 is test_lst2, test_lst1 is test_lst3, test_lst1 is test_lst4"
   ]
  },
  {
   "cell_type": "code",
   "execution_count": 41,
   "id": "475abb49",
   "metadata": {},
   "outputs": [
    {
     "data": {
      "text/plain": [
       "(False, False, True)"
      ]
     },
     "execution_count": 41,
     "metadata": {},
     "output_type": "execute_result"
    }
   ],
   "source": [
    "id(test_lst1) == id(test_lst2), id(test_lst1) == id(test_lst3), id(test_lst1) == id(test_lst4)"
   ]
  },
  {
   "cell_type": "markdown",
   "id": "4e90d4c6",
   "metadata": {},
   "source": [
    "Данные операторы отличаются тем, что один сравнивает содерждание объектов, а другой - их идентификаторы. Поэтому в большинстве случаев надо использовать `==`: нас чаще интересует содержание, а не странные питоновские нюансы питона. Однако сравнение с уникальными сущностями типа `None`, `False` или `True`лучше производить через `is`. Если кто-то из вас пользуется пайчармом, то он мог говорить вам что-то такое"
   ]
  },
  {
   "cell_type": "markdown",
   "id": "0459e92e",
   "metadata": {},
   "source": [
    "О проверке типа `if cat`, когда `cat` - это различные типы данных"
   ]
  },
  {
   "cell_type": "code",
   "execution_count": 42,
   "id": "614b4a9a",
   "metadata": {},
   "outputs": [],
   "source": [
    "def if_cat(cat):\n",
    "    if cat:\n",
    "        return 'yes'\n",
    "    else:\n",
    "        return 'no'"
   ]
  },
  {
   "cell_type": "code",
   "execution_count": 43,
   "id": "ec57d0d4",
   "metadata": {},
   "outputs": [
    {
     "data": {
      "text/plain": [
       "('yes', 'no')"
      ]
     },
     "execution_count": 43,
     "metadata": {},
     "output_type": "execute_result"
    }
   ],
   "source": [
    "if_cat(True), if_cat(False)"
   ]
  },
  {
   "cell_type": "code",
   "execution_count": 44,
   "id": "904736ef",
   "metadata": {},
   "outputs": [
    {
     "data": {
      "text/plain": [
       "'no'"
      ]
     },
     "execution_count": 44,
     "metadata": {},
     "output_type": "execute_result"
    }
   ],
   "source": [
    "if_cat(None)"
   ]
  },
  {
   "cell_type": "code",
   "execution_count": 45,
   "id": "e4ab4c0a",
   "metadata": {},
   "outputs": [
    {
     "data": {
      "text/plain": [
       "('no', 'no', 'no')"
      ]
     },
     "execution_count": 45,
     "metadata": {},
     "output_type": "execute_result"
    }
   ],
   "source": [
    "if_cat([]), if_cat(''), if_cat({})"
   ]
  },
  {
   "cell_type": "code",
   "execution_count": 46,
   "id": "d1f97170",
   "metadata": {},
   "outputs": [
    {
     "data": {
      "text/plain": [
       "('no', 'yes', 'yes')"
      ]
     },
     "execution_count": 46,
     "metadata": {},
     "output_type": "execute_result"
    }
   ],
   "source": [
    "if_cat(0), if_cat(1), if_cat(6)"
   ]
  },
  {
   "cell_type": "code",
   "execution_count": 47,
   "id": "67c5c2f2",
   "metadata": {},
   "outputs": [
    {
     "data": {
      "text/plain": [
       "('yes', 'yes', 'yes')"
      ]
     },
     "execution_count": 47,
     "metadata": {},
     "output_type": "execute_result"
    }
   ],
   "source": [
    "if_cat([12, ]), if_cat('hi!'), if_cat({'hi!': 12})"
   ]
  },
  {
   "cell_type": "markdown",
   "id": "6609b490",
   "metadata": {},
   "source": [
    "Где тут может быть подвох: дейсвтия на `None` часто требуется прописывать отдельно, и такая проверка может перепутать его с любым другим пустым объектом. Пусть у вас есть функция, в которую передается параметр, отвечающий за кол-во симовлов при выводе. Если он `None`, то вывести надо все"
   ]
  },
  {
   "cell_type": "code",
   "execution_count": 48,
   "id": "5d29667b",
   "metadata": {},
   "outputs": [],
   "source": [
    "def test_func3(text, line=None):\n",
    "    # do something\n",
    "    if not line:\n",
    "        return text\n",
    "    else:\n",
    "        return text[:line]"
   ]
  },
  {
   "cell_type": "code",
   "execution_count": 49,
   "id": "7ca7482d",
   "metadata": {},
   "outputs": [
    {
     "data": {
      "text/plain": [
       "'\\nЛиса предложила раку бегать наперегонки. Рак согласился. Лиса побежала, а рак уцепился за лисий хвост. \\nЛиса добежала до места. Обернулась лиса, а рак отцепился и говорит: «A я давно тут тебя жду».\\n'"
      ]
     },
     "execution_count": 49,
     "metadata": {},
     "output_type": "execute_result"
    }
   ],
   "source": [
    "text = '\\nЛиса предложила раку бегать наперегонки. Рак согласился. Лиса побежала, а рак уцепился за лисий хвост. ' + \\\n",
    "'\\nЛиса добежала до места. Обернулась лиса, а рак отцепился и говорит: «A я давно тут тебя жду».\\n'\n",
    "text"
   ]
  },
  {
   "cell_type": "code",
   "execution_count": 50,
   "id": "65995d71",
   "metadata": {},
   "outputs": [
    {
     "data": {
      "text/plain": [
       "'\\nЛиса пред'"
      ]
     },
     "execution_count": 50,
     "metadata": {},
     "output_type": "execute_result"
    }
   ],
   "source": [
    "test_func3(text, 10)"
   ]
  },
  {
   "cell_type": "code",
   "execution_count": 51,
   "id": "7bf9d3e9",
   "metadata": {},
   "outputs": [
    {
     "data": {
      "text/plain": [
       "'\\nЛиса предложила раку бегать наперегонки. Рак согласился. Лиса побежала, а рак уцепился за лисий хвост. \\nЛиса добежала до места. Обернулась лиса, а рак отцепился и говорит: «A я давно тут тебя жду».\\n'"
      ]
     },
     "execution_count": 51,
     "metadata": {},
     "output_type": "execute_result"
    }
   ],
   "source": [
    "test_func3(text, None)"
   ]
  },
  {
   "cell_type": "code",
   "execution_count": 52,
   "id": "2202d36c",
   "metadata": {},
   "outputs": [
    {
     "data": {
      "text/plain": [
       "'\\nЛиса предложила раку бегать наперегонки. Рак согласился. Лиса побежала, а рак уцепился за лисий хвост. \\nЛиса добежала до места. Обернулась лиса, а рак отцепился и говорит: «A я давно тут тебя жду».\\n'"
      ]
     },
     "execution_count": 52,
     "metadata": {},
     "output_type": "execute_result"
    }
   ],
   "source": [
    "test_func3(text, 0)"
   ]
  },
  {
   "cell_type": "markdown",
   "id": "dffe06fb",
   "metadata": {},
   "source": [
    "Мы же не хотели получать символы в выводе, ввели ноль, а тут вдруг целый текст. Нехорошо :)</br>\n",
    "Поэтому лучше делать сравнение с `None` явным"
   ]
  },
  {
   "cell_type": "markdown",
   "id": "50eb2035",
   "metadata": {},
   "source": [
    "## 5. Про скорость и память (немного)"
   ]
  },
  {
   "cell_type": "code",
   "execution_count": 55,
   "id": "4b6739f7",
   "metadata": {},
   "outputs": [
    {
     "data": {
      "text/plain": [
       "array([[1, 0, 2, 0, 0, 0, 0, 0, 0, 0],\n",
       "       [0, 0, 3, 0, 0, 0, 0, 0, 0, 0],\n",
       "       [4, 5, 6, 0, 0, 0, 0, 0, 0, 0],\n",
       "       [0, 0, 0, 0, 0, 0, 0, 0, 0, 0],\n",
       "       [0, 0, 0, 0, 0, 0, 0, 0, 0, 0],\n",
       "       [0, 0, 0, 0, 0, 0, 0, 0, 0, 0],\n",
       "       [0, 0, 0, 0, 0, 0, 0, 0, 0, 0],\n",
       "       [0, 0, 0, 0, 0, 0, 0, 0, 0, 0],\n",
       "       [0, 0, 0, 0, 0, 0, 0, 0, 0, 0],\n",
       "       [0, 0, 0, 0, 0, 0, 0, 0, 0, 0]])"
      ]
     },
     "execution_count": 55,
     "metadata": {},
     "output_type": "execute_result"
    }
   ],
   "source": [
    "row = np.array([0, 0, 1, 2, 2, 2])\n",
    "col = np.array([0, 2, 2, 0, 1, 2])\n",
    "data = np.array([1, 2, 3, 4, 5, 6])\n",
    "mx_zero = csr_array((data, (row, col)), shape=(10, 10))\n",
    "mx_zero.toarray()"
   ]
  },
  {
   "cell_type": "code",
   "execution_count": 56,
   "id": "894e4ff9",
   "metadata": {},
   "outputs": [
    {
     "data": {
      "text/plain": [
       "(48, 928)"
      ]
     },
     "execution_count": 56,
     "metadata": {},
     "output_type": "execute_result"
    }
   ],
   "source": [
    "sys.getsizeof(mx_zero), sys.getsizeof(mx_zero.toarray())"
   ]
  },
  {
   "cell_type": "markdown",
   "id": "dbaf354a",
   "metadata": {},
   "source": [
    "### Задание\n",
    "Давайте для каждого текста построим обратный индекс, потом найдем пять самых частотных слов во всем корпусе, а потом (если успеем) посчитаем tf-idf и найдем по три ключевых слова"
   ]
  },
  {
   "cell_type": "code",
   "execution_count": 57,
   "id": "12287b98",
   "metadata": {},
   "outputs": [
    {
     "data": {
      "text/html": [
       "<div>\n",
       "<style scoped>\n",
       "    .dataframe tbody tr th:only-of-type {\n",
       "        vertical-align: middle;\n",
       "    }\n",
       "\n",
       "    .dataframe tbody tr th {\n",
       "        vertical-align: top;\n",
       "    }\n",
       "\n",
       "    .dataframe thead th {\n",
       "        text-align: right;\n",
       "    }\n",
       "</style>\n",
       "<table border=\"1\" class=\"dataframe\">\n",
       "  <thead>\n",
       "    <tr style=\"text-align: right;\">\n",
       "      <th></th>\n",
       "      <th>text</th>\n",
       "    </tr>\n",
       "  </thead>\n",
       "  <tbody>\n",
       "    <tr>\n",
       "      <th>0</th>\n",
       "      <td>Разнообразный и богатый опыт говорит нам, что ...</td>\n",
       "    </tr>\n",
       "  </tbody>\n",
       "</table>\n",
       "</div>"
      ],
      "text/plain": [
       "                                                text\n",
       "0  Разнообразный и богатый опыт говорит нам, что ..."
      ]
     },
     "execution_count": 57,
     "metadata": {},
     "output_type": "execute_result"
    }
   ],
   "source": [
    "df = pd.read_csv('data.csv')\n",
    "df.head(1)"
   ]
  },
  {
   "cell_type": "code",
   "execution_count": 58,
   "id": "546d250c",
   "metadata": {},
   "outputs": [],
   "source": [
    "def preprocess_text(text):\n",
    "    lemmas = []\n",
    "    for word in word_tokenize(text):\n",
    "        if word.isalpha():\n",
    "            word = morph.parse(word.lower())[0]\n",
    "            lemma = word.normal_form\n",
    "            if lemma not in stops:\n",
    "                lemmas.append(lemma)\n",
    "    return ' '.join(lemmas)"
   ]
  },
  {
   "cell_type": "code",
   "execution_count": 59,
   "id": "4f47f109",
   "metadata": {},
   "outputs": [
    {
     "data": {
      "text/html": [
       "<div>\n",
       "<style scoped>\n",
       "    .dataframe tbody tr th:only-of-type {\n",
       "        vertical-align: middle;\n",
       "    }\n",
       "\n",
       "    .dataframe tbody tr th {\n",
       "        vertical-align: top;\n",
       "    }\n",
       "\n",
       "    .dataframe thead th {\n",
       "        text-align: right;\n",
       "    }\n",
       "</style>\n",
       "<table border=\"1\" class=\"dataframe\">\n",
       "  <thead>\n",
       "    <tr style=\"text-align: right;\">\n",
       "      <th></th>\n",
       "      <th>text</th>\n",
       "      <th>clean_text</th>\n",
       "    </tr>\n",
       "  </thead>\n",
       "  <tbody>\n",
       "    <tr>\n",
       "      <th>0</th>\n",
       "      <td>Разнообразный и богатый опыт говорит нам, что ...</td>\n",
       "      <td>разнообразный богатый опыт говорить граница об...</td>\n",
       "    </tr>\n",
       "  </tbody>\n",
       "</table>\n",
       "</div>"
      ],
      "text/plain": [
       "                                                text  \\\n",
       "0  Разнообразный и богатый опыт говорит нам, что ...   \n",
       "\n",
       "                                          clean_text  \n",
       "0  разнообразный богатый опыт говорить граница об...  "
      ]
     },
     "execution_count": 59,
     "metadata": {},
     "output_type": "execute_result"
    }
   ],
   "source": [
    "df['clean_text'] = df.text.apply(preprocess_text)\n",
    "df.head(1)"
   ]
  },
  {
   "cell_type": "code",
   "execution_count": 60,
   "id": "e28e2344",
   "metadata": {},
   "outputs": [
    {
     "name": "stdout",
     "output_type": "stream",
     "text": [
      "85.3 ms ± 659 µs per loop (mean ± std. dev. of 7 runs, 10 loops each)\n"
     ]
    }
   ],
   "source": [
    "%%timeit\n",
    "df['clean_text'] = df.text.apply(preprocess_text)\n",
    "df.head(1)"
   ]
  },
  {
   "cell_type": "code",
   "execution_count": null,
   "id": "f674a4d4",
   "metadata": {},
   "outputs": [],
   "source": [
    "# пишем обратный индекс в виде словаря"
   ]
  },
  {
   "cell_type": "code",
   "execution_count": 80,
   "id": "050bfe70",
   "metadata": {},
   "outputs": [
    {
     "name": "stdout",
     "output_type": "stream",
     "text": [
      "187 µs ± 2.54 µs per loop (mean ± std. dev. of 7 runs, 10,000 loops each)\n"
     ]
    }
   ],
   "source": [
    "%%timeit\n",
    "freq_dict = {}\n",
    "vocab = {}\n",
    "vocab_list = []\n",
    "for i, text in enumerate(df.clean_text):\n",
    "    for word in text.split():\n",
    "        if word not in vocab:\n",
    "            vocab[word] = len(vocab)\n",
    "            vocab_list.append(word)\n",
    "        num_word = vocab[word]\n",
    "        \n",
    "        if num_word not in freq_dict:\n",
    "            freq_dict[num_word] = {}\n",
    "        if i not in freq_dict[num_word]:\n",
    "            freq_dict[num_word][i] = 0\n",
    "            \n",
    "        freq_dict[num_word][i] += 1"
   ]
  },
  {
   "cell_type": "code",
   "execution_count": 72,
   "id": "8b2358b4",
   "metadata": {},
   "outputs": [
    {
     "name": "stdout",
     "output_type": "stream",
     "text": [
      "65.6 µs ± 409 ns per loop (mean ± std. dev. of 7 runs, 10,000 loops each)\n"
     ]
    }
   ],
   "source": [
    "%%timeit\n",
    "words_stat = {}\n",
    "for word in freq_dict:\n",
    "    words_stat[word] = sum(freq_dict[word].values())\n",
    "[vocab_list[i[0]] for i in sorted(words_stat.items(), key=lambda x: x[1], \n",
    "                                  reverse=True)[:5]]"
   ]
  },
  {
   "cell_type": "code",
   "execution_count": 92,
   "id": "5625bbad",
   "metadata": {},
   "outputs": [
    {
     "name": "stdout",
     "output_type": "stream",
     "text": [
      "37.1 µs ± 615 ns per loop (mean ± std. dev. of 7 runs, 10,000 loops each)\n"
     ]
    }
   ],
   "source": [
    "%%timeit\n",
    "vocab_scp[freq_spm.sum(axis=0).argsort()[:, -1:-6:-1]]"
   ]
  },
  {
   "cell_type": "code",
   "execution_count": 79,
   "id": "c62f4ed6",
   "metadata": {},
   "outputs": [
    {
     "name": "stdout",
     "output_type": "stream",
     "text": [
      "574 µs ± 13.4 µs per loop (mean ± std. dev. of 7 runs, 1,000 loops each)\n"
     ]
    }
   ],
   "source": [
    "%%timeit\n",
    "cv = CountVectorizer()\n",
    "freq_spm = cv.fit_transform(df.clean_text)"
   ]
  },
  {
   "cell_type": "code",
   "execution_count": 83,
   "id": "bc9c4739",
   "metadata": {},
   "outputs": [],
   "source": [
    "cv = CountVectorizer()\n",
    "freq_spm = cv.fit_transform(df.clean_text)"
   ]
  },
  {
   "cell_type": "code",
   "execution_count": 85,
   "id": "57e601da",
   "metadata": {},
   "outputs": [
    {
     "data": {
      "text/plain": [
       "array([[1, 0, 0, ..., 0, 0, 0],\n",
       "       [0, 0, 0, ..., 0, 0, 1],\n",
       "       [0, 1, 0, ..., 0, 0, 0],\n",
       "       ...,\n",
       "       [0, 0, 0, ..., 1, 1, 0],\n",
       "       [0, 0, 0, ..., 0, 0, 0],\n",
       "       [0, 0, 0, ..., 0, 2, 0]])"
      ]
     },
     "execution_count": 85,
     "metadata": {},
     "output_type": "execute_result"
    }
   ],
   "source": [
    "freq_spm.toarray()"
   ]
  },
  {
   "cell_type": "code",
   "execution_count": 86,
   "id": "d51ca5e8",
   "metadata": {},
   "outputs": [],
   "source": [
    "vocab_scp = cv.get_feature_names_out()"
   ]
  },
  {
   "cell_type": "code",
   "execution_count": null,
   "id": "f143f5e9",
   "metadata": {},
   "outputs": [],
   "source": []
  }
 ],
 "metadata": {
  "kernelspec": {
   "display_name": "Python 3 (ipykernel)",
   "language": "python",
   "name": "python3"
  },
  "language_info": {
   "codemirror_mode": {
    "name": "ipython",
    "version": 3
   },
   "file_extension": ".py",
   "mimetype": "text/x-python",
   "name": "python",
   "nbconvert_exporter": "python",
   "pygments_lexer": "ipython3",
   "version": "3.10.7"
  }
 },
 "nbformat": 4,
 "nbformat_minor": 5
}
